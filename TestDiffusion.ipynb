{
 "cells": [
  {
   "cell_type": "code",
   "execution_count": 2,
   "id": "973d4afb",
   "metadata": {},
   "outputs": [],
   "source": [
    "import numpy as np "
   ]
  },
  {
   "cell_type": "code",
   "execution_count": 3,
   "id": "1e5ec32f",
   "metadata": {},
   "outputs": [],
   "source": [
    "regions = np.loadtxt(\"Data/sable/sable_regions.txt\")"
   ]
  },
  {
   "cell_type": "code",
   "execution_count": 4,
   "id": "b2656285",
   "metadata": {},
   "outputs": [
    {
     "data": {
      "text/plain": [
       "(11805, 5)"
      ]
     },
     "execution_count": 4,
     "metadata": {},
     "output_type": "execute_result"
    }
   ],
   "source": [
    "regions.shape"
   ]
  },
  {
   "cell_type": "code",
   "execution_count": 5,
   "id": "b3096402",
   "metadata": {},
   "outputs": [],
   "source": [
    "indices = regions[:,0].tolist()"
   ]
  },
  {
   "cell_type": "code",
   "execution_count": 6,
   "id": "7f6926ac",
   "metadata": {},
   "outputs": [],
   "source": [
    "np.savetxt(\"Data/sable/indices.txt\",indices)"
   ]
  },
  {
   "cell_type": "code",
   "execution_count": 7,
   "id": "4636e398",
   "metadata": {},
   "outputs": [
    {
     "data": {
      "text/plain": [
       "(11805, 4)"
      ]
     },
     "execution_count": 7,
     "metadata": {},
     "output_type": "execute_result"
    }
   ],
   "source": [
    "regions[:,1:].shape"
   ]
  },
  {
   "cell_type": "code",
   "execution_count": 8,
   "id": "569c91a4",
   "metadata": {},
   "outputs": [],
   "source": [
    "np.savetxt(\"Data/sable/regions.txt\",regions[:,1:])"
   ]
  },
  {
   "cell_type": "code",
   "execution_count": 9,
   "id": "4e139d76",
   "metadata": {},
   "outputs": [],
   "source": [
    "voisins = np.loadtxt(\"Data/sable/sable_surface.txt\")"
   ]
  },
  {
   "cell_type": "code",
   "execution_count": 10,
   "id": "b969b10d",
   "metadata": {},
   "outputs": [
    {
     "data": {
      "text/plain": [
       "11804.0"
      ]
     },
     "execution_count": 10,
     "metadata": {},
     "output_type": "execute_result"
    }
   ],
   "source": [
    "np.max(voisins[:,0])"
   ]
  },
  {
   "cell_type": "code",
   "execution_count": 11,
   "id": "fac5b3ee",
   "metadata": {},
   "outputs": [],
   "source": [
    "new_voisins = []"
   ]
  },
  {
   "cell_type": "code",
   "execution_count": 12,
   "id": "471fdb6b",
   "metadata": {},
   "outputs": [],
   "source": [
    "for i,j,sij in voisins:\n",
    "    new_voisins.append([indices.index(i),indices.index(j),sij])"
   ]
  },
  {
   "cell_type": "code",
   "execution_count": 13,
   "id": "e0899935",
   "metadata": {},
   "outputs": [],
   "source": [
    "new_voisins = np.array(new_voisins)"
   ]
  },
  {
   "cell_type": "code",
   "execution_count": 14,
   "id": "0979ed89",
   "metadata": {},
   "outputs": [],
   "source": [
    "np.savetxt(\"Data/sable/voisins.txt\",new_voisins)"
   ]
  },
  {
   "cell_type": "code",
   "execution_count": 16,
   "id": "a2ac2fb9",
   "metadata": {},
   "outputs": [],
   "source": [
    "for i in range(512):\n",
    "    plan = np.loadtxt(f\"Data/sable/zplans/sable_z_{i+1}.txt\")\n",
    "    newplan = []\n",
    "    for j in plan:\n",
    "        newplan.append(indices.index(j))\n",
    "    np.savetxt(f\"Data/sable/new_z_plans/z{i+1}.txt\",np.array(newplan))"
   ]
  },
  {
   "cell_type": "code",
   "execution_count": 17,
   "id": "e974a196",
   "metadata": {},
   "outputs": [],
   "source": [
    "indices = np.loadtxt(\"Data/sable/indices.txt\").tolist()"
   ]
  },
  {
   "cell_type": "code",
   "execution_count": 18,
   "id": "4d77bb4d",
   "metadata": {},
   "outputs": [],
   "source": [
    "regionsPlans =[[] for _ in range(len(indices))]"
   ]
  },
  {
   "cell_type": "code",
   "execution_count": 19,
   "id": "00c69d7f",
   "metadata": {},
   "outputs": [],
   "source": [
    "for i in range(512):\n",
    "    plan = np.loadtxt(f\"Data/sable/new_z_plans/z{i+1}.txt\")\n",
    "    for j in plan:\n",
    "        regionsPlans[int(j)].append(i)"
   ]
  },
  {
   "cell_type": "code",
   "execution_count": 20,
   "id": "366d25ed",
   "metadata": {},
   "outputs": [],
   "source": [
    "c= []"
   ]
  },
  {
   "cell_type": "code",
   "execution_count": null,
   "id": "3aa078f9",
   "metadata": {},
   "outputs": [],
   "source": [
    "for region in regionsPlans:\n",
    "    c.append([region[0],region[-1]])"
   ]
  },
  {
   "cell_type": "code",
   "execution_count": null,
   "id": "2bd9eefe",
   "metadata": {},
   "outputs": [],
   "source": [
    "np.savetxt(\"Data/sable/region_z_limits.txt\",np.array(c))"
   ]
  },
  {
   "cell_type": "code",
   "execution_count": null,
   "id": "15139d62",
   "metadata": {},
   "outputs": [],
   "source": []
  },
  {
   "cell_type": "code",
   "execution_count": null,
   "id": "433a43f4",
   "metadata": {},
   "outputs": [],
   "source": []
  },
  {
   "cell_type": "code",
   "execution_count": null,
   "id": "a395db96",
   "metadata": {},
   "outputs": [],
   "source": []
  },
  {
   "cell_type": "code",
   "execution_count": null,
   "id": "afceeb70",
   "metadata": {},
   "outputs": [],
   "source": []
  },
  {
   "cell_type": "code",
   "execution_count": 22,
   "id": "4b5cc66c",
   "metadata": {},
   "outputs": [],
   "source": [
    "x1  = np.loadtxt(\"Data/x_newplans/x1.txt\",dtype=int)"
   ]
  },
  {
   "cell_type": "code",
   "execution_count": 23,
   "id": "8fc26b54",
   "metadata": {},
   "outputs": [],
   "source": [
    "x2  = np.loadtxt(\"Data/x_newplans/x2.txt\",dtype=int)"
   ]
  },
  {
   "cell_type": "code",
   "execution_count": 24,
   "id": "8f8612c0",
   "metadata": {},
   "outputs": [
    {
     "data": {
      "text/plain": [
       "(436,)"
      ]
     },
     "execution_count": 24,
     "metadata": {},
     "output_type": "execute_result"
    }
   ],
   "source": [
    "np.union1d(x1,x2).shape"
   ]
  },
  {
   "cell_type": "code",
   "execution_count": 25,
   "id": "655e0ca9",
   "metadata": {},
   "outputs": [],
   "source": [
    "np.savetxt(\"Data/x1_x2.txt\",np.union1d(x1,x2),fmt='%i')"
   ]
  },
  {
   "cell_type": "code",
   "execution_count": null,
   "id": "5af84b40",
   "metadata": {},
   "outputs": [],
   "source": []
  },
  {
   "cell_type": "code",
   "execution_count": null,
   "id": "b7d5aaad",
   "metadata": {},
   "outputs": [],
   "source": []
  },
  {
   "cell_type": "code",
   "execution_count": null,
   "id": "17904c87",
   "metadata": {},
   "outputs": [],
   "source": []
  },
  {
   "cell_type": "code",
   "execution_count": null,
   "id": "8f248267",
   "metadata": {},
   "outputs": [],
   "source": []
  },
  {
   "cell_type": "code",
   "execution_count": null,
   "id": "107a8937",
   "metadata": {},
   "outputs": [],
   "source": []
  },
  {
   "cell_type": "code",
   "execution_count": null,
   "id": "3c45c522",
   "metadata": {},
   "outputs": [],
   "source": []
  },
  {
   "cell_type": "code",
   "execution_count": null,
   "id": "c0c37d9f",
   "metadata": {},
   "outputs": [],
   "source": []
  },
  {
   "cell_type": "code",
   "execution_count": null,
   "id": "90f6917a",
   "metadata": {},
   "outputs": [],
   "source": []
  },
  {
   "cell_type": "code",
   "execution_count": null,
   "id": "6c120f2c",
   "metadata": {},
   "outputs": [],
   "source": []
  },
  {
   "cell_type": "code",
   "execution_count": null,
   "id": "15f99243",
   "metadata": {},
   "outputs": [],
   "source": []
  },
  {
   "cell_type": "code",
   "execution_count": null,
   "id": "d914bebb",
   "metadata": {},
   "outputs": [],
   "source": []
  },
  {
   "cell_type": "code",
   "execution_count": null,
   "id": "ee77557e",
   "metadata": {},
   "outputs": [],
   "source": []
  },
  {
   "cell_type": "markdown",
   "id": "0a955f15",
   "metadata": {},
   "source": [
    "### Diffusion sur des données synthetiques"
   ]
  },
  {
   "cell_type": "code",
   "execution_count": 1,
   "id": "33649524",
   "metadata": {},
   "outputs": [],
   "source": [
    "import numpy as np"
   ]
  },
  {
   "cell_type": "code",
   "execution_count": 2,
   "id": "6933d87c",
   "metadata": {},
   "outputs": [],
   "source": [
    "region  = np.loadtxt(\"Data/regions_sans_optimization/regions.txt\")"
   ]
  },
  {
   "cell_type": "code",
   "execution_count": 3,
   "id": "eaa1ece8",
   "metadata": {},
   "outputs": [],
   "source": [
    "volume  = region[:,3]"
   ]
  },
  {
   "cell_type": "code",
   "execution_count": 4,
   "id": "6405e8f9",
   "metadata": {},
   "outputs": [
    {
     "data": {
      "text/plain": [
       "2.0"
      ]
     },
     "execution_count": 4,
     "metadata": {},
     "output_type": "execute_result"
    }
   ],
   "source": [
    "np.min(volume)"
   ]
  },
  {
   "cell_type": "code",
   "execution_count": 5,
   "id": "27161400",
   "metadata": {},
   "outputs": [
    {
     "data": {
      "text/plain": [
       "15521.0"
      ]
     },
     "execution_count": 5,
     "metadata": {},
     "output_type": "execute_result"
    }
   ],
   "source": [
    "np.max(volume)"
   ]
  },
  {
   "cell_type": "code",
   "execution_count": 6,
   "id": "4c0e54c9",
   "metadata": {},
   "outputs": [
    {
     "data": {
      "text/plain": [
       "1227.582126647936"
      ]
     },
     "execution_count": 6,
     "metadata": {},
     "output_type": "execute_result"
    }
   ],
   "source": [
    "np.mean(volume)"
   ]
  },
  {
   "cell_type": "code",
   "execution_count": 7,
   "id": "3643e603",
   "metadata": {},
   "outputs": [
    {
     "data": {
      "text/plain": [
       "1227.582126647936"
      ]
     },
     "execution_count": 7,
     "metadata": {},
     "output_type": "execute_result"
    }
   ],
   "source": [
    "np.sum(volume)/volume.shape[0]"
   ]
  },
  {
   "cell_type": "code",
   "execution_count": null,
   "id": "0c41a646",
   "metadata": {},
   "outputs": [],
   "source": []
  },
  {
   "cell_type": "code",
   "execution_count": null,
   "id": "9014e10b",
   "metadata": {},
   "outputs": [],
   "source": []
  },
  {
   "cell_type": "markdown",
   "id": "6582ff36",
   "metadata": {},
   "source": [
    "## Test vectorization"
   ]
  },
  {
   "cell_type": "code",
   "execution_count": 1,
   "id": "34a46aba",
   "metadata": {},
   "outputs": [],
   "source": [
    "import numpy as np "
   ]
  },
  {
   "cell_type": "code",
   "execution_count": null,
   "id": "3e0664b4",
   "metadata": {},
   "outputs": [],
   "source": []
  },
  {
   "cell_type": "code",
   "execution_count": 17,
   "id": "2ea2827b",
   "metadata": {},
   "outputs": [],
   "source": [
    "def transform_vectorized(deltat,rho, mu, rho_m,vfom,vsom,vdom,kab):\n",
    "    def Asynchronous_Transformation(volume,MB,DOM,FOM,SOM,CO2):\n",
    "        x1 = MB\n",
    "        x2 = DOM\n",
    "        x3 = FOM\n",
    "        x4 = SOM \n",
    "        x5 = CO2        \n",
    "        #  we update the parameters if and only if there is microorganisms in the ball \n",
    "        # (obvious; it's microorganism that is responsible for the transformation of the organic matter)\n",
    "        if x1 > 0 : \n",
    "            #first we let the microrganisms eat some from the dom in orther to grow\n",
    "            if x2>0 : \n",
    "                cDOM = x2 / volume  #concentration of DOM\n",
    "                temp =  vdom*cDOM*x1*deltat/(kab+cDOM) \n",
    "                if x1 >= temp  : # that the microorganisms have excess DOM \n",
    "                    x1 += temp # we let the microorganisms grow\n",
    "                    x2 -= temp\n",
    "                else : \n",
    "                    x1 += x2 # the microorganisms don't have enough DOM in order to grow during deltat\n",
    "                    x2 = 0 # it lasts no DOM anymore in this ball\n",
    "            # the decomposition of MB after dying to DOM and FOM \n",
    "            temp = mu*x1*deltat #the portion of MB to be decomposed \n",
    "            if x1 >= temp : # there is enough MB\n",
    "                x1 -= temp # MB dying\n",
    "                x2 += rho_m * temp #fast decomposition\n",
    "                x3 += (1-rho_m) * temp #slow decomposition\n",
    "            else : \n",
    "                x2 += rho_m * x1 #fast decomposition\n",
    "                x3 += (1-rho_m) * x1 #slow decomposition\n",
    "                x1 = 0 # it lasts no MB anymore in this ball\n",
    "            # the respiration of microorganisms\n",
    "            if x1 > 0 : \n",
    "                temp = rho * x1 * deltat\n",
    "                if x1 >= temp : \n",
    "                    x1 -= temp \n",
    "                    x5 += temp # CO2 emission by microorganisms\n",
    "                else :\n",
    "                    x5 +=x1 # CO2 emission by microorganisms\n",
    "                    x1 = 0\n",
    "        #Transformation of SOM and FOM to DOM \n",
    "        #Transformation of SOM\n",
    "        if x3 >0 :\n",
    "            temp = vsom * x3 * deltat # portion of SOM that can be dissolved during deltat (SOM to DOM)\n",
    "            if x3 >= temp: # there is enough SOM in the ball\n",
    "                x2 += temp\n",
    "                x3 -= temp\n",
    "            else : \n",
    "                x2 +=x3\n",
    "                x3 = 0\n",
    "        #transformation of FOM \n",
    "        if x4 > 0 : \n",
    "            temp = vfom * x4 * deltat # portion of FOM that can be dissolved during deltat  (FOM to DOM)\n",
    "            if x4 >= temp :  # there is enough FOM in the ball\n",
    "                x2 += temp \n",
    "                x4 -= temp\n",
    "            else : \n",
    "                x2 += x4 \n",
    "                x4 = 0\n",
    "        return x1,x2,x3,x4,x5\n",
    "    return Asynchronous_Transformation\n"
   ]
  },
  {
   "cell_type": "code",
   "execution_count": 18,
   "id": "ed943963",
   "metadata": {},
   "outputs": [],
   "source": [
    "[rho,mu,rho_m,vfom,vsom,vdom,kab] = [float(a) for a in open(\"Data/boules.par\").readlines()[0].split(\" \")] "
   ]
  },
  {
   "cell_type": "code",
   "execution_count": 19,
   "id": "f3dba836",
   "metadata": {},
   "outputs": [],
   "source": [
    "deltat =  30/24*60*60"
   ]
  },
  {
   "cell_type": "code",
   "execution_count": 20,
   "id": "b92cafad",
   "metadata": {},
   "outputs": [],
   "source": [
    "TVectorized = transform_vectorized(deltat,rho, mu, rho_m,vfom,vsom,vdom,kab)"
   ]
  },
  {
   "cell_type": "code",
   "execution_count": 21,
   "id": "813e6bb2",
   "metadata": {},
   "outputs": [],
   "source": [
    "vfunc = np.vectorize(TVectorized)"
   ]
  },
  {
   "cell_type": "code",
   "execution_count": 22,
   "id": "bdbe0d54",
   "metadata": {},
   "outputs": [],
   "source": [
    "volume = np.ones((80,1))"
   ]
  },
  {
   "cell_type": "code",
   "execution_count": 23,
   "id": "06b83108",
   "metadata": {},
   "outputs": [],
   "source": [
    "[MB,DOM,FOM,SOM,CO2] = [np.zeros((80,1))]*5"
   ]
  },
  {
   "cell_type": "code",
   "execution_count": 25,
   "id": "25d3d11f",
   "metadata": {},
   "outputs": [],
   "source": [
    "X1,X2,X3,X4,X5 = vfunc(volume,MB,DOM,FOM,SOM,CO2)"
   ]
  },
  {
   "cell_type": "code",
   "execution_count": null,
   "id": "0baccc77",
   "metadata": {},
   "outputs": [],
   "source": []
  }
 ],
 "metadata": {
  "kernelspec": {
   "display_name": "Python 3 (ipykernel)",
   "language": "python",
   "name": "python3"
  },
  "language_info": {
   "codemirror_mode": {
    "name": "ipython",
    "version": 3
   },
   "file_extension": ".py",
   "mimetype": "text/x-python",
   "name": "python",
   "nbconvert_exporter": "python",
   "pygments_lexer": "ipython3",
   "version": "3.9.13"
  }
 },
 "nbformat": 4,
 "nbformat_minor": 5
}
